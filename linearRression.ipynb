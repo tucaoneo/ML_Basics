{
  "nbformat": 4,
  "nbformat_minor": 0,
  "metadata": {
    "colab": {
      "name": "linearRression.ipynb",
      "provenance": [],
      "authorship_tag": "ABX9TyOSJd9UfSIT4cAd6GUPULcw"
    },
    "kernelspec": {
      "name": "python3",
      "display_name": "Python 3"
    },
    "language_info": {
      "name": "python"
    }
  },
  "cells": [
    {
      "cell_type": "markdown",
      "metadata": {
        "id": "AojoUlQpXYyj"
      },
      "source": [
        "Linear Regression"
      ]
    },
    {
      "cell_type": "code",
      "metadata": {
        "id": "GRXThza4XMej"
      },
      "source": [
        "import pandas as pd\n",
        "import numpy as np\n",
        "X = pd.DataFrame({'X1':[2, 5, 7, 11]}).values\n",
        "y = pd.DataFrame([120, 160, 270, 400]).values"
      ],
      "execution_count": 1,
      "outputs": []
    },
    {
      "cell_type": "code",
      "metadata": {
        "colab": {
          "base_uri": "https://localhost:8080/"
        },
        "id": "CKbJ09bthb9C",
        "outputId": "fdc1bf6b-d3eb-4542-dad8-20e9ee17f670"
      },
      "source": [
        "X.shape"
      ],
      "execution_count": 2,
      "outputs": [
        {
          "output_type": "execute_result",
          "data": {
            "text/plain": [
              "(4, 1)"
            ]
          },
          "metadata": {},
          "execution_count": 2
        }
      ]
    },
    {
      "cell_type": "markdown",
      "metadata": {
        "id": "YWM2ucW2Y7Ri"
      },
      "source": [
        "The Gradient Descent solution"
      ]
    },
    {
      "cell_type": "code",
      "metadata": {
        "id": "00zO_i5SYmrG"
      },
      "source": [
        "import random\n",
        "class linearRegression:\n",
        "    def gradientDescent(self, X, y, iterations = 100, learning_rate = 0.01):\n",
        "        m, n = X.shape\n",
        "        beta_0, beta_other = 0, [random.random() for _ in range(n)]\n",
        "        for _ in range(iterations):\n",
        "            gradient_beta_0, gradient_beta_other = self.compute_gradient(X, y, beta_0, beta_other, m, n)\n",
        "            beta_0, beta_other = self.update_betas(beta_0, beta_other, gradient_beta_0, gradient_beta_other, learning_rate)\n",
        "        return beta_0, beta_other\n",
        "    \n",
        "    def compute_gradient(self, X, y, beta_0, beta_other, m, n):\n",
        "        gradient_beta_0 = 0\n",
        "        gradient_beta_other = [0] * n\n",
        "\n",
        "        for i in range(m):\n",
        "            y_i_hat = sum(X[i][j] * beta_other[j] for j in range(n)) + beta_0\n",
        "            derror_dy = 2 * (y[i] - y_i_hat)\n",
        "            for j in range(n):\n",
        "                gradient_beta_other[j] += derror_dy * X[i][j] / m\n",
        "            gradient_beta_0 += derror_dy / m\n",
        "        \n",
        "        return gradient_beta_0, gradient_beta_other\n",
        "    \n",
        "    def update_betas(self, beta_0, beta_other, gradient_beta_0, gradient_beta_other, learning_rate):\n",
        "        beta_0 += gradient_beta_0 * learning_rate\n",
        "        for j in range(len(beta_other)):\n",
        "            beta_other[j] += gradient_beta_other[j] * learning_rate\n",
        "        return beta_0, beta_other"
      ],
      "execution_count": 3,
      "outputs": []
    },
    {
      "cell_type": "code",
      "metadata": {
        "colab": {
          "base_uri": "https://localhost:8080/"
        },
        "id": "grzVeS3feQlC",
        "outputId": "892e800c-e485-476f-aa95-12a0b2aa001c"
      },
      "source": [
        "linReg1 = linearRegression()\n",
        "linReg1.gradientDescent(X, y, iterations=500)"
      ],
      "execution_count": 4,
      "outputs": [
        {
          "output_type": "execute_result",
          "data": {
            "text/plain": [
              "(array([30.39311647]), [array([33.01783056])])"
            ]
          },
          "metadata": {},
          "execution_count": 4
        }
      ]
    },
    {
      "cell_type": "markdown",
      "metadata": {
        "id": "vVESgcGsfWiL"
      },
      "source": [
        "The ordinary least squares (OLS) solution"
      ]
    },
    {
      "cell_type": "code",
      "metadata": {
        "colab": {
          "base_uri": "https://localhost:8080/"
        },
        "id": "p25fE6yyfUl3",
        "outputId": "85f1dfaa-94a0-4b51-b9a7-fcec5e32527e"
      },
      "source": [
        "from sklearn.linear_model import LinearRegression\n",
        "regressor = LinearRegression()\n",
        "regressor.fit(X, y)"
      ],
      "execution_count": 5,
      "outputs": [
        {
          "output_type": "execute_result",
          "data": {
            "text/plain": [
              "LinearRegression(copy_X=True, fit_intercept=True, n_jobs=None, normalize=False)"
            ]
          },
          "metadata": {},
          "execution_count": 5
        }
      ]
    },
    {
      "cell_type": "code",
      "metadata": {
        "colab": {
          "base_uri": "https://localhost:8080/"
        },
        "id": "bUD90cIyh8Pm",
        "outputId": "63235cb7-b660-4eaa-c2d3-ae7c4da5818e"
      },
      "source": [
        "print(regressor.intercept_, regressor.coef_)"
      ],
      "execution_count": 6,
      "outputs": [
        {
          "output_type": "stream",
          "name": "stdout",
          "text": [
            "[33.91812865] [[32.57309942]]\n"
          ]
        }
      ]
    },
    {
      "cell_type": "code",
      "metadata": {
        "colab": {
          "base_uri": "https://localhost:8080/"
        },
        "id": "zrNgy0fFqJf5",
        "outputId": "a431abef-2fda-4bee-94d6-075e263e8a32"
      },
      "source": [
        "yhat = regressor.predict(X)\n",
        "SS_Residual = sum((y-yhat)**2)       \n",
        "SS_Total = sum((y-np.mean(y))**2)     \n",
        "r_squared = 1 - (float(SS_Residual))/SS_Total\n",
        "adjusted_r_squared = 1 - (1-r_squared)*(len(y)-1)/(len(y)-X.shape[1]-1)\n",
        "print(r_squared, adjusted_r_squared)"
      ],
      "execution_count": 7,
      "outputs": [
        {
          "output_type": "stream",
          "name": "stdout",
          "text": [
            "[0.95945089] [0.93917634]\n"
          ]
        }
      ]
    }
  ]
}