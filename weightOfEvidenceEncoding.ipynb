{
  "nbformat": 4,
  "nbformat_minor": 0,
  "metadata": {
    "colab": {
      "name": "weightOfEvidenceEncoding.ipynb",
      "provenance": [],
      "authorship_tag": "ABX9TyP0HCJut+iM1Lb/fpbmiq41"
    },
    "kernelspec": {
      "name": "python3",
      "display_name": "Python 3"
    },
    "language_info": {
      "name": "python"
    }
  },
  "cells": [
    {
      "cell_type": "markdown",
      "metadata": {
        "id": "plLuLvQwG5k_"
      },
      "source": [
        "In classification problems, Weight of Evidence (WoE) can be used to encode categorical predictor, based on the target value corresponding to the predictor."
      ]
    },
    {
      "cell_type": "markdown",
      "metadata": {
        "id": "u9TP6xrnHoZu"
      },
      "source": [
        "Weight of Evidence raises the concern of data leakage. Therefore, a common approach is to split the dataset into train and test, and encode the predictor only based on the train set.\n",
        "\n",
        "Also, Weight of Evidence is often used together with cross validation."
      ]
    },
    {
      "cell_type": "code",
      "metadata": {
        "id": "Py9jPAmuGx6z"
      },
      "source": [
        "def WoE_Encode(df_train, df_test, predictor, target):\n",
        "    woe_df = df_train.groupby(predictor)[target].mean()\n",
        "    woe_df = pd.DataFrame(woe_df)\n",
        "    woe_df = woe_df.rename(columns = {target:'Good'})\n",
        "    woe_df['Good'] = np.where(woe_df['Good'] == 0, 0.000001, woe_df['Good'])\n",
        "    woe_df['Bad'] = 1 - woe_df['Good']\n",
        "    woe_df['Bad'] = np.where(woe_df['Bad'] == 0, 0.000001, woe_df['Bad'])\n",
        "    woe = np.log(woe_df['Good']/woe_df['Bad'])\n",
        "    df_train.loc[:,predictor+'_WoE'] = df_train.loc[:,predictor].map(woe)\n",
        "    df_test.loc[:,predictor+'_WoE'] = df_test.loc[:,predictor].map(woe)\n",
        "    return df_train, df_test"
      ],
      "execution_count": null,
      "outputs": []
    },
    {
      "cell_type": "code",
      "metadata": {
        "id": "GBMVqiqaHi-3"
      },
      "source": [
        "titanic_train, titanic_test = WoE_Encode(titanic_train, titanic_test, 'Sex', 'Survived')"
      ],
      "execution_count": null,
      "outputs": []
    }
  ]
}