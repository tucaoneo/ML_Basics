{
  "nbformat": 4,
  "nbformat_minor": 0,
  "metadata": {
    "colab": {
      "name": "classificationLoop.ipynb",
      "provenance": [],
      "authorship_tag": "ABX9TyPtHmNjLvrSZfw2Doha3bdy"
    },
    "kernelspec": {
      "name": "python3",
      "display_name": "Python 3"
    },
    "language_info": {
      "name": "python"
    }
  },
  "cells": [
    {
      "cell_type": "markdown",
      "metadata": {
        "id": "arhSVPxiDitE"
      },
      "source": [
        "Classification Loop\n",
        "\n",
        "This is to streamline the classification workflow. Each individual classifier is unique, and tuning efforts vary. However, their usage in Python takes a similar structure, and they are judged based on the same set of measures. Therefore, it makes sense to put all models in a loop, in order to make the comparison a bit straightforward."
      ]
    },
    {
      "cell_type": "code",
      "metadata": {
        "id": "NTIrRShxPzAv"
      },
      "source": [
        "import numpy as np\n",
        "import pandas as pd"
      ],
      "execution_count": 1,
      "outputs": []
    },
    {
      "cell_type": "code",
      "metadata": {
        "id": "RhwPCF2VDZE9"
      },
      "source": [
        "def classifier_fit(X_train, y_train, X_test, y_test, model):\n",
        "    if model == 'logistic regression':\n",
        "        from sklearn.linear_model import LogisticRegression\n",
        "        classifier = LogisticRegression(random_state = 0)\n",
        "    elif model == 'tree':\n",
        "        from sklearn.tree import DecisionTreeClassifier\n",
        "        classifier = DecisionTreeClassifier(criterion = 'entropy', random_state = 0)\n",
        "    elif model == 'random forest':\n",
        "        from sklearn.ensemble import RandomForestClassifier\n",
        "        classifier = RandomForestClassifier(n_estimators = 10, criterion = 'entropy', random_state = 0)\n",
        "    elif model == 'k nearest neighbors':\n",
        "        from sklearn.neighbors import KNeighborsClassifier\n",
        "        classifier = KNeighborsClassifier(n_neighbors = 9, metric = 'minkowski', p = 2)\n",
        "    elif model == 'naive bayes':\n",
        "        from sklearn.naive_bayes import GaussianNB\n",
        "        classifier = GaussianNB()\n",
        "    elif model == 'kernel svm':\n",
        "        from sklearn.svm import SVC\n",
        "        classifier = SVC(kernel = 'rbf', random_state = 0)\n",
        "    elif model == 'xgboost':\n",
        "        from xgboost import XGBClassifier\n",
        "        classifier = XGBClassifier(eval_metric='aucpr', use_label_encoder=False)\n",
        "        # eval_metric: 'auc', 'error', 'logloss', etc.\n",
        "    classifier.fit(X_train, y_train)\n",
        "    y_pred = classifier.predict(X_test)\n",
        "    cm = confusion_matrix(y_test, y_pred)\n",
        "    return cm[0,0], cm[0,1], cm[1,0], cm[1,1]"
      ],
      "execution_count": 2,
      "outputs": []
    },
    {
      "cell_type": "markdown",
      "metadata": {
        "id": "pvsIaDPnECZH"
      },
      "source": [
        "Set up one dataframe to store model results."
      ]
    },
    {
      "cell_type": "code",
      "metadata": {
        "id": "cZt6mmEUDtY3",
        "colab": {
          "base_uri": "https://localhost:8080/",
          "height": 266
        },
        "outputId": "c9aa62c8-143b-43fc-c013-0b1fe19624fe"
      },
      "source": [
        "models = ['logistic regression', 'tree', 'random forest', 'k nearest neighbors', 'naive bayes', 'kernel svm', 'xgboost']\n",
        "model_comparison = pd.DataFrame(columns = ['Model', 'TP', 'FN', 'FP', 'TN', 'Accuracy', 'Precision', 'Recall', 'F1 Score'])\n",
        "for model in models:\n",
        "    model_comparison.loc[len(model_comparison.index)] = [model, 0, 0, 0, 0, 0, 0, 0, 0]\n",
        "\n",
        "model_comparison"
      ],
      "execution_count": 3,
      "outputs": [
        {
          "output_type": "execute_result",
          "data": {
            "text/html": [
              "<div>\n",
              "<style scoped>\n",
              "    .dataframe tbody tr th:only-of-type {\n",
              "        vertical-align: middle;\n",
              "    }\n",
              "\n",
              "    .dataframe tbody tr th {\n",
              "        vertical-align: top;\n",
              "    }\n",
              "\n",
              "    .dataframe thead th {\n",
              "        text-align: right;\n",
              "    }\n",
              "</style>\n",
              "<table border=\"1\" class=\"dataframe\">\n",
              "  <thead>\n",
              "    <tr style=\"text-align: right;\">\n",
              "      <th></th>\n",
              "      <th>Model</th>\n",
              "      <th>TP</th>\n",
              "      <th>FN</th>\n",
              "      <th>FP</th>\n",
              "      <th>TN</th>\n",
              "      <th>Accuracy</th>\n",
              "      <th>Precision</th>\n",
              "      <th>Recall</th>\n",
              "      <th>F1 Score</th>\n",
              "    </tr>\n",
              "  </thead>\n",
              "  <tbody>\n",
              "    <tr>\n",
              "      <th>0</th>\n",
              "      <td>logistic regression</td>\n",
              "      <td>0</td>\n",
              "      <td>0</td>\n",
              "      <td>0</td>\n",
              "      <td>0</td>\n",
              "      <td>0</td>\n",
              "      <td>0</td>\n",
              "      <td>0</td>\n",
              "      <td>0</td>\n",
              "    </tr>\n",
              "    <tr>\n",
              "      <th>1</th>\n",
              "      <td>tree</td>\n",
              "      <td>0</td>\n",
              "      <td>0</td>\n",
              "      <td>0</td>\n",
              "      <td>0</td>\n",
              "      <td>0</td>\n",
              "      <td>0</td>\n",
              "      <td>0</td>\n",
              "      <td>0</td>\n",
              "    </tr>\n",
              "    <tr>\n",
              "      <th>2</th>\n",
              "      <td>random forest</td>\n",
              "      <td>0</td>\n",
              "      <td>0</td>\n",
              "      <td>0</td>\n",
              "      <td>0</td>\n",
              "      <td>0</td>\n",
              "      <td>0</td>\n",
              "      <td>0</td>\n",
              "      <td>0</td>\n",
              "    </tr>\n",
              "    <tr>\n",
              "      <th>3</th>\n",
              "      <td>k nearest neighbors</td>\n",
              "      <td>0</td>\n",
              "      <td>0</td>\n",
              "      <td>0</td>\n",
              "      <td>0</td>\n",
              "      <td>0</td>\n",
              "      <td>0</td>\n",
              "      <td>0</td>\n",
              "      <td>0</td>\n",
              "    </tr>\n",
              "    <tr>\n",
              "      <th>4</th>\n",
              "      <td>naive bayes</td>\n",
              "      <td>0</td>\n",
              "      <td>0</td>\n",
              "      <td>0</td>\n",
              "      <td>0</td>\n",
              "      <td>0</td>\n",
              "      <td>0</td>\n",
              "      <td>0</td>\n",
              "      <td>0</td>\n",
              "    </tr>\n",
              "    <tr>\n",
              "      <th>5</th>\n",
              "      <td>kernel svm</td>\n",
              "      <td>0</td>\n",
              "      <td>0</td>\n",
              "      <td>0</td>\n",
              "      <td>0</td>\n",
              "      <td>0</td>\n",
              "      <td>0</td>\n",
              "      <td>0</td>\n",
              "      <td>0</td>\n",
              "    </tr>\n",
              "    <tr>\n",
              "      <th>6</th>\n",
              "      <td>xgboost</td>\n",
              "      <td>0</td>\n",
              "      <td>0</td>\n",
              "      <td>0</td>\n",
              "      <td>0</td>\n",
              "      <td>0</td>\n",
              "      <td>0</td>\n",
              "      <td>0</td>\n",
              "      <td>0</td>\n",
              "    </tr>\n",
              "  </tbody>\n",
              "</table>\n",
              "</div>"
            ],
            "text/plain": [
              "                 Model TP FN FP TN Accuracy Precision Recall F1 Score\n",
              "0  logistic regression  0  0  0  0        0         0      0        0\n",
              "1                 tree  0  0  0  0        0         0      0        0\n",
              "2        random forest  0  0  0  0        0         0      0        0\n",
              "3  k nearest neighbors  0  0  0  0        0         0      0        0\n",
              "4          naive bayes  0  0  0  0        0         0      0        0\n",
              "5           kernel svm  0  0  0  0        0         0      0        0\n",
              "6              xgboost  0  0  0  0        0         0      0        0"
            ]
          },
          "metadata": {},
          "execution_count": 3
        }
      ]
    },
    {
      "cell_type": "markdown",
      "metadata": {
        "id": "c6xMYoMIEqqR"
      },
      "source": [
        "Every time a model makes a prediction, increment corresponding TP, FN, FP, TN.\n",
        "\n",
        "This part can be nested inside cross validation, when each type of model is tried several times for different sub-datasets."
      ]
    },
    {
      "cell_type": "code",
      "metadata": {
        "id": "DQkm8XuoEhmr"
      },
      "source": [
        "for i, model in enumerate(models):\n",
        "    TP, FN, FP, TN = classifier_fit(X_train, y_train, X_test, y_test, model)\n",
        "    model_comparison.at[i, 'TP'] += TP\n",
        "    model_comparison.at[i, 'FN'] += FN\n",
        "    model_comparison.at[i, 'FP'] += FP\n",
        "    model_comparison.at[i, 'TN'] += TN"
      ],
      "execution_count": null,
      "outputs": []
    },
    {
      "cell_type": "markdown",
      "metadata": {
        "id": "4CGjXeyLE46X"
      },
      "source": [
        "When all work involving models is finished, calculate accuracy, precision, recall, F1 score for each model."
      ]
    },
    {
      "cell_type": "code",
      "metadata": {
        "id": "xvEy9TJtEi_j"
      },
      "source": [
        "for i in range(len(models)):\n",
        "    TP = model_comparison.at[i, 'TP']\n",
        "    FN = model_comparison.at[i, 'FN']\n",
        "    FP = model_comparison.at[i, 'FP']\n",
        "    TN = model_comparison.at[i, 'TN']\n",
        "    model_comparison.at[i, 'Accuracy'] = (TP+TN)/(TP+TN+FP+FN)\n",
        "    model_comparison.at[i, 'Precision'] = TP/(TP+FP)\n",
        "    model_comparison.at[i, 'Recall'] = TP/(TP+FN)\n",
        "    model_comparison.at[i, 'F1 Score'] = 2 / (1/model_comparison.at[i, 'Precision'] + 1/model_comparison.at[i, 'Recall'])\n",
        "\n",
        "model_comparison"
      ],
      "execution_count": null,
      "outputs": []
    }
  ]
}